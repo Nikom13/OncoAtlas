{
 "cells": [
  {
   "cell_type": "code",
   "execution_count": 1,
   "id": "669e6a66",
   "metadata": {},
   "outputs": [],
   "source": [
    "# Task 3\n"
   ]
  },
  {
   "cell_type": "code",
   "execution_count": null,
   "id": "4ffe8dfb",
   "metadata": {},
   "outputs": [],
   "source": []
  },
  {
   "cell_type": "code",
   "execution_count": null,
   "id": "943a7a76",
   "metadata": {},
   "outputs": [],
   "source": []
  },
  {
   "cell_type": "raw",
   "id": "b12ef2d7",
   "metadata": {},
   "source": [
    "# AA BRCA1 \n",
    "\n",
    "https://www.cbioportal.org/results/mutations?cancer_study_list=breast_msk_2018&Z_SCORE_THRESHOLD=2.0&RPPA_SCORE_THRESHOLD=2.0&profileFilter=mutations%2Cstructural_variants%2Ccna&case_set_id=breast_msk_2018_cnaseq&gene_list=BRCA1&geneset_list=%20&tab_index=tab_visualize&Action=Submit\n",
    "\n",
    "# Frequency of the variant \n",
    "\n",
    "https://gnomad.broadinstitute.org/variant/17-41209079-T-TG?dataset=gnomad_r2_1\n",
    "    \n",
    "    \n",
    "\tExomes\tGenomes\tTotal\n",
    "Filters\tPass\tPass\t\n",
    "Allele Count\t46\t5\t51\n",
    "Allele Number\t251494\t31398\t282892\n",
    "Allele Frequency\t0.0001829\t0.0001592\t0.0001803\n",
    "Grpmax Filtering AF More information\n",
    "(95% confidence)\t0.0001155\t0.0001267\n",
    "Number of homozygotes\t0\t0\t0\n",
    "Mean depth of coverage\t99.9\t31.6\t"
   ]
  },
  {
   "cell_type": "raw",
   "id": "08b3d997",
   "metadata": {},
   "source": [
    "# Citations for literature\n",
    "\n",
    "Miura, Takumi, et al. “A simple method to estimate the in-house limit of detection for genetic mutations with low allele frequencies in whole-exome sequencing analysis by next-generation sequencing.” BMC Genomic Data, vol. 22, no. 1, 18 Feb. 2021, https://doi.org/10.1186/s12863-020-00956-x. \n",
    "\n",
    "P. Strom, Samuel, and Samuel P. Strom. “Current practices and guidelines for clinical next-generation sequencing oncology testing.” Cancer Biology &amp; Medicine, vol. 13, no. 1, 2016, pp. 3–11, https://doi.org/10.20892/j.issn.2095-3941.2016.0004. \n",
    "\n",
    "Pum, Joachim. “A practical guide to validation and verification of analytical methods in the clinical laboratory.” Advances in Clinical Chemistry, 2019, pp. 215–281, https://doi.org/10.1016/bs.acc.2019.01.006. "
   ]
  },
  {
   "cell_type": "markdown",
   "id": "85f859c6",
   "metadata": {},
   "source": [
    "4.2 Limit of detection (LoD)\n",
    "The LoD is defined as the lowest quantity or concentration of a component that can be reliably distinguished from the LoB. It therefore reflects the analyte level at which the likelihood of a low-level sample giving a false-negative result equals the specified Type II error risk [58]. The Type II error risk is typically set at 0.05, which is usually the same as that used for Type I error risk (i.e., α = β = 0.05).\n",
    "\n"
   ]
  },
  {
   "cell_type": "code",
   "execution_count": null,
   "id": "d76ca2c8",
   "metadata": {},
   "outputs": [],
   "source": []
  },
  {
   "cell_type": "code",
   "execution_count": null,
   "id": "ba2c8ac0",
   "metadata": {},
   "outputs": [],
   "source": []
  },
  {
   "cell_type": "code",
   "execution_count": null,
   "id": "4c227cd7",
   "metadata": {},
   "outputs": [],
   "source": []
  },
  {
   "cell_type": "code",
   "execution_count": null,
   "id": "64da8227",
   "metadata": {},
   "outputs": [],
   "source": []
  },
  {
   "cell_type": "code",
   "execution_count": null,
   "id": "5b843e49",
   "metadata": {},
   "outputs": [],
   "source": []
  }
 ],
 "metadata": {
  "kernelspec": {
   "display_name": "Python 3 (ipykernel)",
   "language": "python",
   "name": "python3"
  },
  "language_info": {
   "codemirror_mode": {
    "name": "ipython",
    "version": 3
   },
   "file_extension": ".py",
   "mimetype": "text/x-python",
   "name": "python",
   "nbconvert_exporter": "python",
   "pygments_lexer": "ipython3",
   "version": "3.8.16"
  }
 },
 "nbformat": 4,
 "nbformat_minor": 5
}
